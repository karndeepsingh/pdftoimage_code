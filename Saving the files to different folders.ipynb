{
 "cells": [
  {
   "cell_type": "code",
   "execution_count": null,
   "metadata": {},
   "outputs": [],
   "source": [
    "from tensorflow.keras.models import load_model\n",
    "best_model= load_model(\"model 09-- 0.9976-- 0.9583.h5\")"
   ]
  },
  {
   "cell_type": "code",
   "execution_count": null,
   "metadata": {},
   "outputs": [],
   "source": [
    "from tensorflow.keras.preprocessing.image import load_img,img_to_array\n",
    "import matplotlib.pyplot as plt"
   ]
  },
  {
   "cell_type": "code",
   "execution_count": null,
   "metadata": {},
   "outputs": [],
   "source": [
    "class_labels = [\"tdp\", \"tds\",\"unknown\"]"
   ]
  },
  {
   "cell_type": "code",
   "execution_count": null,
   "metadata": {},
   "outputs": [],
   "source": [
    "imagePaths =\"/media/karndeepsingh/Data-1/Data/UDC/tds.jpg\"\n",
    "#os.chdir(\"/media/karndeepsingh/Data-1/Data/UDC/tds/\")\n",
    "def prediction(filepath,target_size = (224,224,3),model=best_model):   \n",
    "    # Loading and resizing image\n",
    "    image = load_img(filepath, target_size=target_size)\n",
    "    # Convert the image pixels to a numpy array\n",
    "    image = img_to_array(image)\n",
    "    # Reshape data for the model\n",
    "    image = image.reshape((1, image.shape[0], image.shape[1], image.shape[2]))\n",
    "    # Prepare the image for the CNN Model model\n",
    "    image = image / 255.0\n",
    "    # Pass image into model to get encoded features\n",
    "    preds= model.predict(image, verbose=0)\n",
    "\n",
    "    pred_proba =preds[0][np.argmax(preds)]\n",
    "    class_l = class_labels[np.argmax(preds)]\n",
    "\n",
    "    return class_l,pred_proba\n",
    "        "
   ]
  },
  {
   "cell_type": "code",
   "execution_count": null,
   "metadata": {},
   "outputs": [],
   "source": [
    "prediction(imagePaths)"
   ]
  },
  {
   "cell_type": "code",
   "execution_count": null,
   "metadata": {},
   "outputs": [],
   "source": [
    "imagePaths = os.listdir(\"/media/karndeepsingh/Data-1/Data/UDC/\")\n",
    "\n",
    "clb = [\"tdp\",\"tds\",\"unknown\"]\n",
    "tdp_path= []\n",
    "tds_path = []\n",
    "unknown_path = []\n",
    "for path in imagePaths:\n",
    "    if path ==\"tdp\":\n",
    "        tdp_path.append(os.listdir(\"/media/karndeepsingh/Data-1/Data/UDC/{}\".format(path)))\n",
    "    elif path ==\"tds\":\n",
    "        tds_path.append(os.listdir(\"/media/karndeepsingh/Data-1/Data/UDC/{}\".format(path)))\n",
    "    elif path ==\"unknown\":\n",
    "        unknown_path.append(os.listdir(\"/media/karndeepsingh/Data-1/Data/UDC/{}\".format(path)))  "
   ]
  },
  {
   "cell_type": "code",
   "execution_count": null,
   "metadata": {},
   "outputs": [],
   "source": [
    "os.chdir(\"/media/karndeepsingh/Data-1/Data/UDC/unknown\")\n",
    "for filepath in unknown_path[0][:150]:\n",
    "    class_l,pred_proba = prediction(filepath)\n",
    "    if class_l == \"unknown\":\n",
    "        im =Image.open(filepath)\n",
    "        im.save(\"/home/karndeepsingh/Documents/Unilever/ACTUAL UNKNOWN CLASSIFIED/{}\".format(filepath),\"JPEG\")\n",
    "    if class_l ==\"tds\":\n",
    "        print(class_l)\n",
    "        plt.figure(figsize=(10,10))\n",
    "        im = Image.open(filepath)\n",
    "        #plt.imshow(im)\n",
    "        #plt.show()\n",
    "        #plt.savefig(\"/home/karndeepsingh/Documents/Untitled Folder/NOT UNKNOWN BUT TDS/{}.png\".format(filepath))\n",
    "        im.save(\"/home/karndeepsingh/Documents/Unilever/R:UNKNOWN P:TDS/{}\".format(filepath),\"JPEG\")\n",
    "    if class_l == \"tdp\":\n",
    "        print(class_l)\n",
    "        plt.figure(figsize=(10,10))\n",
    "        im = Image.open(filepath)\n",
    "        #plt.imshow(im)\n",
    "        #plt.show()\n",
    "        #plt.savefig(\"/home/karndeepsingh/Documents/Untitled Folder/NOT UNKNOWN BUT TDS/{}.png\".format(filepath))\n",
    "        im.save(\"/home/karndeepsingh/Documents/Unilever/R:UNKNOWN P:TDP/{}\".format(filepath),\"JPEG\")"
   ]
  },
  {
   "cell_type": "code",
   "execution_count": null,
   "metadata": {},
   "outputs": [],
   "source": [
    "for img, label in zip(trainX[:15],trainY[:15]):\n",
    "    # Reshape data for the model\n",
    "    image = np.expand_dims(img,axis = 0)\n",
    "    # Prepare the image for the CNN Model model\n",
    "    image = image / 255.0\n",
    "    # Pass image into model to get encoded features\n",
    "    preds= model.predict(image, verbose=0)\n",
    "    \n",
    "    pred_proba =preds[0][np.argmax(preds)]\n",
    "    print(np.argmax(preds))\n",
    "    class_l = class_labels[np.argmax(preds)]\n",
    "    print(\"Actual Label: \",class_labels[np.argmax(label)])\n",
    "    print(\"Predicted Label: \",class_l)                                 \n",
    "    plt.figure(figsize= (10,10))\n",
    "    plt.imshow(img.astype(\"uint8\"), interpolation=\"nearest\")\n",
    "    plt.show()"
   ]
  },
  {
   "cell_type": "code",
   "execution_count": null,
   "metadata": {},
   "outputs": [],
   "source": []
  },
  {
   "cell_type": "code",
   "execution_count": null,
   "metadata": {},
   "outputs": [],
   "source": []
  },
  {
   "cell_type": "code",
   "execution_count": null,
   "metadata": {},
   "outputs": [],
   "source": []
  },
  {
   "cell_type": "code",
   "execution_count": null,
   "metadata": {},
   "outputs": [],
   "source": []
  }
 ],
 "metadata": {
  "kernelspec": {
   "display_name": "Python 3",
   "language": "python",
   "name": "python3"
  },
  "language_info": {
   "codemirror_mode": {
    "name": "ipython",
    "version": 3
   },
   "file_extension": ".py",
   "mimetype": "text/x-python",
   "name": "python",
   "nbconvert_exporter": "python",
   "pygments_lexer": "ipython3",
   "version": "3.8.3"
  }
 },
 "nbformat": 4,
 "nbformat_minor": 4
}
